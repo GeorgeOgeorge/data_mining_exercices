{
  "nbformat": 4,
  "nbformat_minor": 0,
  "metadata": {
    "colab": {
      "provenance": [],
      "authorship_tag": "ABX9TyNieJfntLp8kfJQHKUs4Pf/",
      "include_colab_link": true
    },
    "kernelspec": {
      "name": "python3",
      "display_name": "Python 3"
    },
    "language_info": {
      "name": "python"
    }
  },
  "cells": [
    {
      "cell_type": "markdown",
      "metadata": {
        "id": "view-in-github",
        "colab_type": "text"
      },
      "source": [
        "<a href=\"https://colab.research.google.com/github/GeorgeOgeorge/data_mining_exercices/blob/main/exercise_1.ipynb\" target=\"_parent\"><img src=\"https://colab.research.google.com/assets/colab-badge.svg\" alt=\"Open In Colab\"/></a>"
      ]
    },
    {
      "cell_type": "code",
      "execution_count": null,
      "metadata": {
        "id": "rUtrGrb6zJli"
      },
      "outputs": [],
      "source": [
        "# Importando bibliotecas que serão utilizadas na resolução dos exercícios\n",
        "import pandas as pd\n",
        "\n",
        "from sklearn.decomposition import PCA\n",
        "from sklearn.preprocessing import StandardScaler\n",
        "from sklearn.discriminant_analysis import LinearDiscriminantAnalysis as LDA\n",
        "\n",
        "import matplotlib.pyplot as plt"
      ]
    },
    {
      "cell_type": "markdown",
      "source": [
        "# Questão 1 \n",
        "\n",
        "Sobre compressão de atributos por meio da análise dos componentes principais\n",
        "(Principal Component Analysis – PCA), considere a base de dados escolhida\n",
        "para trabalhar ao longo desta disciplina (caso prefira, pode ser uma nova\n",
        "base). Apresente, por meio de gráfico, a relação entre o 1º e o 2º componente\n",
        "principal da base de dados. Após a plotagem do gráfico, observe se há uma\n",
        "separação linear entre dois grupos de objetos que pode contribuir para o melhor\n",
        "desempenho dos algoritmos de mineração de dados. Descreva sua análise.\n"
      ],
      "metadata": {
        "id": "yLYg_WMRGpoR"
      }
    },
    {
      "cell_type": "markdown",
      "source": [
        "## Simplificando grupos e normalizando dados\n",
        "\n",
        "Para essa etapa estamos lendo a base de dados [_wine quality_](https://archive.ics.uci.edu/ml/datasets/wine+quality) e agrupando todos os subgrupos em dois grupos princiais.\n",
        "\n",
        "Considerando que temos um intervalo de 0 -> 10 para determinar a qualidade do vinho estou utilizando o criteiro (qualidade < 7) = ruim se não bom para resumir os grupos.\n",
        "\n",
        "Nessa etapa também é necessário fazer a normalização dos dados."
      ],
      "metadata": {
        "id": "dd1vMPc_HLI7"
      }
    },
    {
      "cell_type": "code",
      "source": [
        "# Carregar a base de dados em um DataFrame do Pandas\n",
        "url = \"https://archive.ics.uci.edu/ml/machine-learning-databases/wine-quality/winequality-red.csv\"\n",
        "df = pd.read_csv(url, sep=\";\")\n",
        "\n",
        "# Separando registros em duas classes vinhos ruins=0 bons=1 \n",
        "df['quality'] = df['quality'].apply(lambda quality: 1 if quality > 6 else 0)"
      ],
      "metadata": {
        "id": "qie3RyRjzk4s"
      },
      "execution_count": null,
      "outputs": []
    },
    {
      "cell_type": "code",
      "source": [
        "# Separar os atributos da coluna alvo(quality)\n",
        "X = df.iloc[:, :-1].values"
      ],
      "metadata": {
        "id": "khmTh41i0sG-"
      },
      "execution_count": null,
      "outputs": []
    },
    {
      "cell_type": "code",
      "source": [
        "# Normalizar os atributos\n",
        "sc = StandardScaler()\n",
        "X = sc.fit_transform(X)"
      ],
      "metadata": {
        "id": "ixb0XYl03zWF"
      },
      "execution_count": null,
      "outputs": []
    },
    {
      "cell_type": "markdown",
      "source": [
        "## Aplicando PCA para reduzir componentes existentes\n",
        "\n",
        "Nessa etapa esmos definindo que vamos reduzir os atributos para apenas dois componentes principais. Após a redução vemos que foram criados dois PCs que são compostos respectivamente por:\n",
        "\n",
        "- PC1:\n",
        "  - fixed acidity\n",
        "  - citric acid\n",
        "  - density\n",
        "  - Ph\n",
        "\n",
        "- PC2:\n",
        " - free sulfur dioxide\n",
        " - total sulfur dioxide\n",
        " - alcohol\n",
        " - sulphates\n"
      ],
      "metadata": {
        "id": "qxcjVuyIN5C1"
      }
    },
    {
      "cell_type": "code",
      "source": [
        "# Aplicar a PCA com 2 componentes\n",
        "pca = PCA(n_components=2)\n",
        "X_pca = pca.fit_transform(X)"
      ],
      "metadata": {
        "id": "u8cDHs9A4y4T"
      },
      "execution_count": null,
      "outputs": []
    },
    {
      "cell_type": "code",
      "source": [
        "# Obter os nomes dos atributos originais\n",
        "atributos = df.columns[:-1]\n",
        "coeficientes = pca.components_"
      ],
      "metadata": {
        "id": "aup4o0A4AUAb"
      },
      "execution_count": null,
      "outputs": []
    },
    {
      "cell_type": "code",
      "source": [
        "# Criar um DataFrame com os nomes dos atributos e os coeficientes de carga\n",
        "df_coeficientes = pd.DataFrame(coeficientes.T, columns=[\"PC1\", \"PC2\"])\n",
        "df_coeficientes[\"Atributo\"] = atributos"
      ],
      "metadata": {
        "id": "2KGqRyaZCfvr"
      },
      "execution_count": null,
      "outputs": []
    },
    {
      "cell_type": "code",
      "source": [
        "# Visualizar o DataFrame com os nomes dos atributos e os coeficientes de carga\n",
        "print(df_coeficientes.sort_values(['PC1', 'PC2'], ascending=False))"
      ],
      "metadata": {
        "colab": {
          "base_uri": "https://localhost:8080/"
        },
        "id": "0CGqh_1fClH9",
        "outputId": "cc87db5a-5dea-4178-ce8b-38fe9c979af7"
      },
      "execution_count": null,
      "outputs": [
        {
          "output_type": "stream",
          "name": "stdout",
          "text": [
            "         PC1       PC2              Atributo\n",
            "0   0.489314 -0.110503         fixed acidity\n",
            "2   0.463632 -0.151791           citric acid\n",
            "7   0.395353  0.233575               density\n",
            "9   0.242921 -0.037554             sulphates\n",
            "4   0.212247  0.148052             chlorides\n",
            "3   0.146107  0.272080        residual sugar\n",
            "6   0.023575  0.569487  total sulfur dioxide\n",
            "5  -0.036158  0.513567   free sulfur dioxide\n",
            "10 -0.113232 -0.386181               alcohol\n",
            "1  -0.238584  0.274930      volatile acidity\n",
            "8  -0.438520  0.006711                    pH\n"
          ]
        }
      ]
    },
    {
      "cell_type": "markdown",
      "source": [
        "## Buscando correlação entre componentes\n",
        "\n",
        "Vemos que a diagnoal secundaria possui um valor menor que está longe do 1 logo vemos que não existe uma correlção.\n",
        "\n",
        "segue grafico plotado referente à correlação."
      ],
      "metadata": {
        "id": "MnOsRuvDP5n2"
      }
    },
    {
      "cell_type": "code",
      "source": [
        "# Verificar a correlação entre o primeiro e o segundo componente principal\n",
        "corr = pd.DataFrame(X_pca, columns=[\"PC1\", \"PC2\"]).corr()\n",
        "print(corr)"
      ],
      "metadata": {
        "colab": {
          "base_uri": "https://localhost:8080/"
        },
        "id": "JZMD3HbtEoWW",
        "outputId": "ee076c09-9942-4af6-8df1-414ab29791b6"
      },
      "execution_count": null,
      "outputs": [
        {
          "output_type": "stream",
          "name": "stdout",
          "text": [
            "              PC1           PC2\n",
            "PC1  1.000000e+00 -2.960509e-16\n",
            "PC2 -2.960509e-16  1.000000e+00\n"
          ]
        }
      ]
    },
    {
      "cell_type": "code",
      "source": [
        "# Exibir relação entre pc1 e pc2\n",
        "plt.scatter(df_coeficientes['PC1'], df_coeficientes['PC2'])\n",
        "plt.xlabel('Primeiro Componente Principal')\n",
        "plt.ylabel('Segundo Componente Principal')\n",
        "plt.title('Relação entre PC1 e PC2')\n",
        "plt.show()"
      ],
      "metadata": {
        "colab": {
          "base_uri": "https://localhost:8080/",
          "height": 472
        },
        "id": "lzXOQ7qyOYk6",
        "outputId": "868c29eb-cf72-49dd-883c-aa12ad11a340"
      },
      "execution_count": null,
      "outputs": [
        {
          "output_type": "display_data",
          "data": {
            "text/plain": [
              "<Figure size 640x480 with 1 Axes>"
            ],
            "image/png": "[encoded data removed]"
          },
          "metadata": {}
        }
      ]
    },
    {
      "cell_type": "markdown",
      "source": [
        "## Calculando separação linear entre classes\n",
        "\n",
        "Utilizando o que foi feito até aqui e aplicando um calculo de separação linear temos uma separação linear de 86% indica que há uma boa distinção entre as classes e que o modelo é capaz de separar bem os dados."
      ],
      "metadata": {
        "id": "a-_1Y_OKfsH5"
      }
    },
    {
      "cell_type": "code",
      "source": [
        " # Separar os atributos dos rótulos\n",
        "X = df.iloc[:, :-1].values\n",
        "y = df.iloc[:, -1].values\n",
        "\n",
        "# Aplicar a LDA com 1 componente\n",
        "lda = LDA(n_components=1)\n",
        "X_lda = lda.fit_transform(X_pca, y)\n",
        "\n",
        "# Verificar a separação linear entre as classes\n",
        "print(\"Separação linear entre as classes: \", lda.score(X_pca, y))"
      ],
      "metadata": {
        "colab": {
          "base_uri": "https://localhost:8080/"
        },
        "id": "d_lDPty3ImMt",
        "outputId": "b6799020-2924-47e3-bdf3-37c42a80b3f7"
      },
      "execution_count": null,
      "outputs": [
        {
          "output_type": "stream",
          "name": "stdout",
          "text": [
            "Separação linear entre as classes:  0.8642901813633521\n"
          ]
        }
      ]
    },
    {
      "cell_type": "markdown",
      "source": [
        "# Questão 2\n",
        "\n",
        "O conjunto de dados da Tabela abaixo, chamado Fidelização, trata de uma\n",
        "tentativa de obter dados das visitas dos clientes ao restaurante com o propósito\n",
        "de descobrir se existem fatores que contribuem para um cliente se fidelizar ao\n",
        "estabelecimento ou não. Os atributos descritivos de cada situação dizem respeito\n",
        "a diferentes tipos de avaliação realizadas em uma visita ao restaurante."
      ],
      "metadata": {
        "id": "M2_CxxQwrYRv"
      }
    },
    {
      "cell_type": "code",
      "source": [
        "df = pd.read_csv('/content/questao_2.csv')"
      ],
      "metadata": {
        "id": "wTmLvlNaruOU"
      },
      "execution_count": null,
      "outputs": []
    },
    {
      "cell_type": "markdown",
      "source": [
        "a) Realize uma análise exploratória dos dados de forma a verificar se conclusões sobre fidelização podem ser tiradas a partir dessa análise. Em sua análise, verifique as medidas de posição e separatrizes, medidas de dispersão, projete gráficos do tipo histograma e boxplot e realize análise de correlação."
      ],
      "metadata": {
        "id": "D7hKboucrh-K"
      }
    },
    {
      "cell_type": "code",
      "source": [
        "df"
      ],
      "metadata": {
        "colab": {
          "base_uri": "https://localhost:8080/",
          "height": 426
        },
        "id": "w5B9z7lUvj0l",
        "outputId": "92cc97da-2ded-4a3d-c2fe-a8fe064645fb"
      },
      "execution_count": null,
      "outputs": [
        {
          "output_type": "execute_result",
          "data": {
            "text/plain": [
              "   AVALIAÇÃO 1 AVALIAÇÃO 2 AVALIAÇÃO 3        Situação\n",
              "0         9,69       22,91        2,36      Fidelizado\n",
              "1         5,54       28,64        5,17      Fidelizado\n",
              "2           ??       22,91          ??      Fidelizado\n",
              "3        12,46       40,09        3,22      Fidelizado\n",
              "4        11,07       17,18        1,55      Fidelizado\n",
              "5         8,30       57.27        6,90      Fidelizado\n",
              "6         2,77       34,36       12,41  Não fidelizado\n",
              "7         5,54       17.18        6,01  Não fidelizado\n",
              "8           ??       11,45          ??  Não fidelizado\n",
              "9         8,30          ??          ??  Não fidelizado\n",
              "10        6,92        5,73        4,88  Não fidelizado\n",
              "11       13,84       11,45        0,83  Não fidelizado"
            ],
            "text/html": [
              "\n",
              "  <div id=\"df-07030792-61d7-4933-a67d-d3f5d18f27d7\">\n",
              "    <div class=\"colab-df-container\">\n",
              "      <div>\n",
              "<style scoped>\n",
              "    .dataframe tbody tr th:only-of-type {\n",
              "        vertical-align: middle;\n",
              "    }\n",
              "\n",
              "    .dataframe tbody tr th {\n",
              "        vertical-align: top;\n",
              "    }\n",
              "\n",
              "    .dataframe thead th {\n",
              "        text-align: right;\n",
              "    }\n",
              "</style>\n",
              "<table border=\"1\" class=\"dataframe\">\n",
              "  <thead>\n",
              "    <tr style=\"text-align: right;\">\n",
              "      <th></th>\n",
              "      <th>AVALIAÇÃO 1</th>\n",
              "      <th>AVALIAÇÃO 2</th>\n",
              "      <th>AVALIAÇÃO 3</th>\n",
              "      <th>Situação</th>\n",
              "    </tr>\n",
              "  </thead>\n",
              "  <tbody>\n",
              "    <tr>\n",
              "      <th>0</th>\n",
              "      <td>9,69</td>\n",
              "      <td>22,91</td>\n",
              "      <td>2,36</td>\n",
              "      <td>Fidelizado</td>\n",
              "    </tr>\n",
              "    <tr>\n",
              "      <th>1</th>\n",
              "      <td>5,54</td>\n",
              "      <td>28,64</td>\n",
              "      <td>5,17</td>\n",
              "      <td>Fidelizado</td>\n",
              "    </tr>\n",
              "    <tr>\n",
              "      <th>2</th>\n",
              "      <td>??</td>\n",
              "      <td>22,91</td>\n",
              "      <td>??</td>\n",
              "      <td>Fidelizado</td>\n",
              "    </tr>\n",
              "    <tr>\n",
              "      <th>3</th>\n",
              "      <td>12,46</td>\n",
              "      <td>40,09</td>\n",
              "      <td>3,22</td>\n",
              "      <td>Fidelizado</td>\n",
              "    </tr>\n",
              "    <tr>\n",
              "      <th>4</th>\n",
              "      <td>11,07</td>\n",
              "      <td>17,18</td>\n",
              "      <td>1,55</td>\n",
              "      <td>Fidelizado</td>\n",
              "    </tr>\n",
              "    <tr>\n",
              "      <th>5</th>\n",
              "      <td>8,30</td>\n",
              "      <td>57.27</td>\n",
              "      <td>6,90</td>\n",
              "      <td>Fidelizado</td>\n",
              "    </tr>\n",
              "    <tr>\n",
              "      <th>6</th>\n",
              "      <td>2,77</td>\n",
              "      <td>34,36</td>\n",
              "      <td>12,41</td>\n",
              "      <td>Não fidelizado</td>\n",
              "    </tr>\n",
              "    <tr>\n",
              "      <th>7</th>\n",
              "      <td>5,54</td>\n",
              "      <td>17.18</td>\n",
              "      <td>6,01</td>\n",
              "      <td>Não fidelizado</td>\n",
              "    </tr>\n",
              "    <tr>\n",
              "      <th>8</th>\n",
              "      <td>??</td>\n",
              "      <td>11,45</td>\n",
              "      <td>??</td>\n",
              "      <td>Não fidelizado</td>\n",
              "    </tr>\n",
              "    <tr>\n",
              "      <th>9</th>\n",
              "      <td>8,30</td>\n",
              "      <td>??</td>\n",
              "      <td>??</td>\n",
              "      <td>Não fidelizado</td>\n",
              "    </tr>\n",
              "    <tr>\n",
              "      <th>10</th>\n",
              "      <td>6,92</td>\n",
              "      <td>5,73</td>\n",
              "      <td>4,88</td>\n",
              "      <td>Não fidelizado</td>\n",
              "    </tr>\n",
              "    <tr>\n",
              "      <th>11</th>\n",
              "      <td>13,84</td>\n",
              "      <td>11,45</td>\n",
              "      <td>0,83</td>\n",
              "      <td>Não fidelizado</td>\n",
              "    </tr>\n",
              "  </tbody>\n",
              "</table>\n",
              "</div>\n",
              "      <button class=\"colab-df-convert\" onclick=\"convertToInteractive('df-07030792-61d7-4933-a67d-d3f5d18f27d7')\"\n",
              "              title=\"Convert this dataframe to an interactive table.\"\n",
              "              style=\"display:none;\">\n",
              "        \n",
              "  <svg xmlns=\"http://www.w3.org/2000/svg\" height=\"24px\"viewBox=\"0 0 24 24\"\n",
              "       width=\"24px\">\n",
              "    <path d=\"M0 0h24v24H0V0z\" fill=\"none\"/>\n",
              "    <path d=\"M18.56 5.44l.94 2.06.94-2.06 2.06-.94-2.06-.94-.94-2.06-.94 2.06-2.06.94zm-11 1L8.5 8.5l.94-2.06 2.06-.94-2.06-.94L8.5 2.5l-.94 2.06-2.06.94zm10 10l.94 2.06.94-2.06 2.06-.94-2.06-.94-.94-2.06-.94 2.06-2.06.94z\"/><path d=\"M17.41 7.96l-1.37-1.37c-.4-.4-.92-.59-1.43-.59-.52 0-1.04.2-1.43.59L10.3 9.45l-7.72 7.72c-.78.78-.78 2.05 0 2.83L4 21.41c.39.39.9.59 1.41.59.51 0 1.02-.2 1.41-.59l7.78-7.78 2.81-2.81c.8-.78.8-2.07 0-2.86zM5.41 20L4 18.59l7.72-7.72 1.47 1.35L5.41 20z\"/>\n",
              "  </svg>\n",
              "      </button>\n",
              "      \n",
              "  <style>\n",
              "    .colab-df-container {\n",
              "      display:flex;\n",
              "      flex-wrap:wrap;\n",
              "      gap: 12px;\n",
              "    }\n",
              "\n",
              "    .colab-df-convert {\n",
              "      background-color: #E8F0FE;\n",
              "      border: none;\n",
              "      border-radius: 50%;\n",
              "      cursor: pointer;\n",
              "      display: none;\n",
              "      fill: #1967D2;\n",
              "      height: 32px;\n",
              "      padding: 0 0 0 0;\n",
              "      width: 32px;\n",
              "    }\n",
              "\n",
              "    .colab-df-convert:hover {\n",
              "      background-color: #E2EBFA;\n",
              "      box-shadow: 0px 1px 2px rgba(60, 64, 67, 0.3), 0px 1px 3px 1px rgba(60, 64, 67, 0.15);\n",
              "      fill: #174EA6;\n",
              "    }\n",
              "\n",
              "    [theme=dark] .colab-df-convert {\n",
              "      background-color: #3B4455;\n",
              "      fill: #D2E3FC;\n",
              "    }\n",
              "\n",
              "    [theme=dark] .colab-df-convert:hover {\n",
              "      background-color: #434B5C;\n",
              "      box-shadow: 0px 1px 3px 1px rgba(0, 0, 0, 0.15);\n",
              "      filter: drop-shadow(0px 1px 2px rgba(0, 0, 0, 0.3));\n",
              "      fill: #FFFFFF;\n",
              "    }\n",
              "  </style>\n",
              "\n",
              "      <script>\n",
              "        const buttonEl =\n",
              "          document.querySelector('#df-07030792-61d7-4933-a67d-d3f5d18f27d7 button.colab-df-convert');\n",
              "        buttonEl.style.display =\n",
              "          google.colab.kernel.accessAllowed ? 'block' : 'none';\n",
              "\n",
              "        async function convertToInteractive(key) {\n",
              "          const element = document.querySelector('#df-07030792-61d7-4933-a67d-d3f5d18f27d7');\n",
              "          const dataTable =\n",
              "            await google.colab.kernel.invokeFunction('convertToInteractive',\n",
              "                                                     [key], {});\n",
              "          if (!dataTable) return;\n",
              "\n",
              "          const docLinkHtml = 'Like what you see? Visit the ' +\n",
              "            '<a target=\"_blank\" href=https://colab.research.google.com/notebooks/data_table.ipynb>data table notebook</a>'\n",
              "            + ' to learn more about interactive tables.';\n",
              "          element.innerHTML = '';\n",
              "          dataTable['output_type'] = 'display_data';\n",
              "          await google.colab.output.renderOutput(dataTable, element);\n",
              "          const docLink = document.createElement('div');\n",
              "          docLink.innerHTML = docLinkHtml;\n",
              "          element.appendChild(docLink);\n",
              "        }\n",
              "      </script>\n",
              "    </div>\n",
              "  </div>\n",
              "  "
            ]
          },
          "metadata": {},
          "execution_count": 76
        }
      ]
    }
  ]
}